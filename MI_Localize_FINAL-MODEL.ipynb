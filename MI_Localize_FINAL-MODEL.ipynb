{
 "cells": [
  {
   "cell_type": "code",
   "execution_count": 3,
   "metadata": {
    "id": "djv-n0MJih6I"
   },
   "outputs": [],
   "source": [
    "# This notebook takes the train and test NumPy files from the saved location, train a model on the training data, and calculate the overall\n",
    "# and class-wise accuracies of the model."
   ]
  },
  {
   "cell_type": "code",
   "execution_count": 7,
   "metadata": {
    "colab": {
     "base_uri": "https://localhost:8080/"
    },
    "id": "zm-68_KrpQBj",
    "outputId": "21e513e9-fb3d-4524-a0fa-57e614f7e7e5"
   },
   "outputs": [
    {
     "name": "stdout",
     "output_type": "stream",
     "text": [
      "Collecting tensorflow==2.14.0\n",
      "  Using cached tensorflow-2.14.0-cp311-cp311-win_amd64.whl.metadata (3.3 kB)\n",
      "Collecting tensorflow-intel==2.14.0 (from tensorflow==2.14.0)\n",
      "  Using cached tensorflow_intel-2.14.0-cp311-cp311-win_amd64.whl.metadata (4.8 kB)\n",
      "Collecting absl-py>=1.0.0 (from tensorflow-intel==2.14.0->tensorflow==2.14.0)\n",
      "  Using cached absl_py-2.1.0-py3-none-any.whl.metadata (2.3 kB)\n",
      "Collecting astunparse>=1.6.0 (from tensorflow-intel==2.14.0->tensorflow==2.14.0)\n",
      "  Using cached astunparse-1.6.3-py2.py3-none-any.whl.metadata (4.4 kB)\n",
      "Collecting flatbuffers>=23.5.26 (from tensorflow-intel==2.14.0->tensorflow==2.14.0)\n",
      "  Using cached flatbuffers-24.3.7-py2.py3-none-any.whl.metadata (849 bytes)\n",
      "Collecting gast!=0.5.0,!=0.5.1,!=0.5.2,>=0.2.1 (from tensorflow-intel==2.14.0->tensorflow==2.14.0)\n",
      "  Using cached gast-0.5.4-py3-none-any.whl.metadata (1.3 kB)\n",
      "Collecting google-pasta>=0.1.1 (from tensorflow-intel==2.14.0->tensorflow==2.14.0)\n",
      "  Using cached google_pasta-0.2.0-py3-none-any.whl.metadata (814 bytes)\n",
      "Requirement already satisfied: h5py>=2.9.0 in c:\\users\\dell\\anaconda3\\lib\\site-packages (from tensorflow-intel==2.14.0->tensorflow==2.14.0) (3.9.0)\n",
      "Collecting libclang>=13.0.0 (from tensorflow-intel==2.14.0->tensorflow==2.14.0)\n",
      "  Downloading libclang-18.1.1-py2.py3-none-win_amd64.whl.metadata (5.3 kB)\n",
      "Collecting ml-dtypes==0.2.0 (from tensorflow-intel==2.14.0->tensorflow==2.14.0)\n",
      "  Using cached ml_dtypes-0.2.0-cp311-cp311-win_amd64.whl.metadata (20 kB)\n",
      "Requirement already satisfied: numpy>=1.23.5 in c:\\users\\dell\\anaconda3\\lib\\site-packages (from tensorflow-intel==2.14.0->tensorflow==2.14.0) (1.26.4)\n",
      "Collecting opt-einsum>=2.3.2 (from tensorflow-intel==2.14.0->tensorflow==2.14.0)\n",
      "  Using cached opt_einsum-3.3.0-py3-none-any.whl.metadata (6.5 kB)\n",
      "Requirement already satisfied: packaging in c:\\users\\dell\\anaconda3\\lib\\site-packages (from tensorflow-intel==2.14.0->tensorflow==2.14.0) (23.1)\n",
      "Requirement already satisfied: protobuf!=4.21.0,!=4.21.1,!=4.21.2,!=4.21.3,!=4.21.4,!=4.21.5,<5.0.0dev,>=3.20.3 in c:\\users\\dell\\anaconda3\\lib\\site-packages (from tensorflow-intel==2.14.0->tensorflow==2.14.0) (3.20.3)\n",
      "Requirement already satisfied: setuptools in c:\\users\\dell\\anaconda3\\lib\\site-packages (from tensorflow-intel==2.14.0->tensorflow==2.14.0) (68.2.2)\n",
      "Requirement already satisfied: six>=1.12.0 in c:\\users\\dell\\anaconda3\\lib\\site-packages (from tensorflow-intel==2.14.0->tensorflow==2.14.0) (1.16.0)\n",
      "Collecting termcolor>=1.1.0 (from tensorflow-intel==2.14.0->tensorflow==2.14.0)\n",
      "  Using cached termcolor-2.4.0-py3-none-any.whl.metadata (6.1 kB)\n",
      "Requirement already satisfied: typing-extensions>=3.6.6 in c:\\users\\dell\\anaconda3\\lib\\site-packages (from tensorflow-intel==2.14.0->tensorflow==2.14.0) (4.9.0)\n",
      "Requirement already satisfied: wrapt<1.15,>=1.11.0 in c:\\users\\dell\\anaconda3\\lib\\site-packages (from tensorflow-intel==2.14.0->tensorflow==2.14.0) (1.14.1)\n",
      "Collecting tensorflow-io-gcs-filesystem>=0.23.1 (from tensorflow-intel==2.14.0->tensorflow==2.14.0)\n",
      "  Using cached tensorflow_io_gcs_filesystem-0.31.0-cp311-cp311-win_amd64.whl.metadata (14 kB)\n",
      "Collecting grpcio<2.0,>=1.24.3 (from tensorflow-intel==2.14.0->tensorflow==2.14.0)\n",
      "  Using cached grpcio-1.62.1-cp311-cp311-win_amd64.whl.metadata (4.2 kB)\n",
      "Collecting tensorboard<2.15,>=2.14 (from tensorflow-intel==2.14.0->tensorflow==2.14.0)\n",
      "  Using cached tensorboard-2.14.1-py3-none-any.whl.metadata (1.7 kB)\n",
      "Collecting tensorflow-estimator<2.15,>=2.14.0 (from tensorflow-intel==2.14.0->tensorflow==2.14.0)\n",
      "  Using cached tensorflow_estimator-2.14.0-py2.py3-none-any.whl.metadata (1.3 kB)\n",
      "Collecting keras<2.15,>=2.14.0 (from tensorflow-intel==2.14.0->tensorflow==2.14.0)\n",
      "  Using cached keras-2.14.0-py3-none-any.whl.metadata (2.4 kB)\n",
      "Requirement already satisfied: wheel<1.0,>=0.23.0 in c:\\users\\dell\\anaconda3\\lib\\site-packages (from astunparse>=1.6.0->tensorflow-intel==2.14.0->tensorflow==2.14.0) (0.41.2)\n",
      "Collecting google-auth<3,>=1.6.3 (from tensorboard<2.15,>=2.14->tensorflow-intel==2.14.0->tensorflow==2.14.0)\n",
      "  Downloading google_auth-2.28.2-py2.py3-none-any.whl.metadata (4.7 kB)\n",
      "Collecting google-auth-oauthlib<1.1,>=0.5 (from tensorboard<2.15,>=2.14->tensorflow-intel==2.14.0->tensorflow==2.14.0)\n",
      "  Using cached google_auth_oauthlib-1.0.0-py2.py3-none-any.whl.metadata (2.7 kB)\n",
      "Requirement already satisfied: markdown>=2.6.8 in c:\\users\\dell\\anaconda3\\lib\\site-packages (from tensorboard<2.15,>=2.14->tensorflow-intel==2.14.0->tensorflow==2.14.0) (3.4.1)\n",
      "Requirement already satisfied: requests<3,>=2.21.0 in c:\\users\\dell\\anaconda3\\lib\\site-packages (from tensorboard<2.15,>=2.14->tensorflow-intel==2.14.0->tensorflow==2.14.0) (2.31.0)\n",
      "Collecting tensorboard-data-server<0.8.0,>=0.7.0 (from tensorboard<2.15,>=2.14->tensorflow-intel==2.14.0->tensorflow==2.14.0)\n",
      "  Using cached tensorboard_data_server-0.7.2-py3-none-any.whl.metadata (1.1 kB)\n",
      "Requirement already satisfied: werkzeug>=1.0.1 in c:\\users\\dell\\anaconda3\\lib\\site-packages (from tensorboard<2.15,>=2.14->tensorflow-intel==2.14.0->tensorflow==2.14.0) (2.2.3)\n",
      "Requirement already satisfied: cachetools<6.0,>=2.0.0 in c:\\users\\dell\\anaconda3\\lib\\site-packages (from google-auth<3,>=1.6.3->tensorboard<2.15,>=2.14->tensorflow-intel==2.14.0->tensorflow==2.14.0) (4.2.2)\n",
      "Requirement already satisfied: pyasn1-modules>=0.2.1 in c:\\users\\dell\\anaconda3\\lib\\site-packages (from google-auth<3,>=1.6.3->tensorboard<2.15,>=2.14->tensorflow-intel==2.14.0->tensorflow==2.14.0) (0.2.8)\n",
      "Collecting rsa<5,>=3.1.4 (from google-auth<3,>=1.6.3->tensorboard<2.15,>=2.14->tensorflow-intel==2.14.0->tensorflow==2.14.0)\n",
      "  Downloading rsa-4.9-py3-none-any.whl.metadata (4.2 kB)\n",
      "Collecting requests-oauthlib>=0.7.0 (from google-auth-oauthlib<1.1,>=0.5->tensorboard<2.15,>=2.14->tensorflow-intel==2.14.0->tensorflow==2.14.0)\n",
      "  Downloading requests_oauthlib-1.4.0-py2.py3-none-any.whl.metadata (11 kB)\n",
      "Requirement already satisfied: charset-normalizer<4,>=2 in c:\\users\\dell\\anaconda3\\lib\\site-packages (from requests<3,>=2.21.0->tensorboard<2.15,>=2.14->tensorflow-intel==2.14.0->tensorflow==2.14.0) (2.0.4)\n",
      "Requirement already satisfied: idna<4,>=2.5 in c:\\users\\dell\\anaconda3\\lib\\site-packages (from requests<3,>=2.21.0->tensorboard<2.15,>=2.14->tensorflow-intel==2.14.0->tensorflow==2.14.0) (3.4)\n",
      "Requirement already satisfied: urllib3<3,>=1.21.1 in c:\\users\\dell\\anaconda3\\lib\\site-packages (from requests<3,>=2.21.0->tensorboard<2.15,>=2.14->tensorflow-intel==2.14.0->tensorflow==2.14.0) (2.0.7)\n",
      "Requirement already satisfied: certifi>=2017.4.17 in c:\\users\\dell\\anaconda3\\lib\\site-packages (from requests<3,>=2.21.0->tensorboard<2.15,>=2.14->tensorflow-intel==2.14.0->tensorflow==2.14.0) (2024.2.2)\n",
      "Requirement already satisfied: MarkupSafe>=2.1.1 in c:\\users\\dell\\anaconda3\\lib\\site-packages (from werkzeug>=1.0.1->tensorboard<2.15,>=2.14->tensorflow-intel==2.14.0->tensorflow==2.14.0) (2.1.3)\n",
      "Requirement already satisfied: pyasn1<0.5.0,>=0.4.6 in c:\\users\\dell\\anaconda3\\lib\\site-packages (from pyasn1-modules>=0.2.1->google-auth<3,>=1.6.3->tensorboard<2.15,>=2.14->tensorflow-intel==2.14.0->tensorflow==2.14.0) (0.4.8)\n",
      "Collecting oauthlib>=3.0.0 (from requests-oauthlib>=0.7.0->google-auth-oauthlib<1.1,>=0.5->tensorboard<2.15,>=2.14->tensorflow-intel==2.14.0->tensorflow==2.14.0)\n",
      "  Downloading oauthlib-3.2.2-py3-none-any.whl.metadata (7.5 kB)\n",
      "Using cached tensorflow-2.14.0-cp311-cp311-win_amd64.whl (2.1 kB)\n",
      "Using cached tensorflow_intel-2.14.0-cp311-cp311-win_amd64.whl (284.2 MB)\n",
      "Using cached ml_dtypes-0.2.0-cp311-cp311-win_amd64.whl (938 kB)\n",
      "Using cached absl_py-2.1.0-py3-none-any.whl (133 kB)\n",
      "Using cached astunparse-1.6.3-py2.py3-none-any.whl (12 kB)\n",
      "Downloading flatbuffers-24.3.7-py2.py3-none-any.whl (26 kB)\n",
      "Using cached gast-0.5.4-py3-none-any.whl (19 kB)\n",
      "Using cached google_pasta-0.2.0-py3-none-any.whl (57 kB)\n",
      "Downloading grpcio-1.62.1-cp311-cp311-win_amd64.whl (3.8 MB)\n",
      "   ---------------------------------------- 0.0/3.8 MB ? eta -:--:--\n",
      "   - -------------------------------------- 0.2/3.8 MB 3.6 MB/s eta 0:00:02\n",
      "   ---- ----------------------------------- 0.4/3.8 MB 5.4 MB/s eta 0:00:01\n",
      "   ------ --------------------------------- 0.6/3.8 MB 4.8 MB/s eta 0:00:01\n",
      "   -------- ------------------------------- 0.8/3.8 MB 4.5 MB/s eta 0:00:01\n",
      "   ---------- ----------------------------- 1.0/3.8 MB 4.1 MB/s eta 0:00:01\n",
      "   ------------- -------------------------- 1.2/3.8 MB 4.4 MB/s eta 0:00:01\n",
      "   -------------- ------------------------- 1.3/3.8 MB 4.0 MB/s eta 0:00:01\n",
      "   ---------------- ----------------------- 1.6/3.8 MB 4.2 MB/s eta 0:00:01\n",
      "   ------------------ --------------------- 1.7/3.8 MB 4.2 MB/s eta 0:00:01\n",
      "   ------------------- -------------------- 1.9/3.8 MB 4.0 MB/s eta 0:00:01\n",
      "   ---------------------- ----------------- 2.1/3.8 MB 4.1 MB/s eta 0:00:01\n",
      "   ----------------------- ---------------- 2.2/3.8 MB 4.1 MB/s eta 0:00:01\n",
      "   -------------------------- ------------- 2.5/3.8 MB 4.0 MB/s eta 0:00:01\n",
      "   ---------------------------- ----------- 2.7/3.8 MB 4.0 MB/s eta 0:00:01\n",
      "   ------------------------------ --------- 2.9/3.8 MB 4.2 MB/s eta 0:00:01\n",
      "   -------------------------------- ------- 3.1/3.8 MB 4.1 MB/s eta 0:00:01\n",
      "   ---------------------------------- ----- 3.3/3.8 MB 4.1 MB/s eta 0:00:01\n",
      "   ----------------------------------- ---- 3.4/3.8 MB 4.1 MB/s eta 0:00:01\n",
      "   -------------------------------------- - 3.6/3.8 MB 4.1 MB/s eta 0:00:01\n",
      "   ---------------------------------------  3.8/3.8 MB 4.0 MB/s eta 0:00:01\n",
      "   ---------------------------------------- 3.8/3.8 MB 3.9 MB/s eta 0:00:00\n",
      "Using cached keras-2.14.0-py3-none-any.whl (1.7 MB)\n",
      "Downloading libclang-18.1.1-py2.py3-none-win_amd64.whl (26.4 MB)\n",
      "   ---------------------------------------- 0.0/26.4 MB ? eta -:--:--\n",
      "    --------------------------------------- 0.3/26.4 MB 7.0 MB/s eta 0:00:04\n",
      "    --------------------------------------- 0.5/26.4 MB 6.7 MB/s eta 0:00:04\n",
      "   - -------------------------------------- 0.7/26.4 MB 5.2 MB/s eta 0:00:05\n",
      "   - -------------------------------------- 1.0/26.4 MB 5.1 MB/s eta 0:00:05\n",
      "   - -------------------------------------- 1.1/26.4 MB 5.3 MB/s eta 0:00:05\n",
      "   - -------------------------------------- 1.3/26.4 MB 4.5 MB/s eta 0:00:06\n",
      "   -- ------------------------------------- 1.4/26.4 MB 4.3 MB/s eta 0:00:06\n",
      "   -- ------------------------------------- 1.7/26.4 MB 4.6 MB/s eta 0:00:06\n",
      "   -- ------------------------------------- 1.8/26.4 MB 4.5 MB/s eta 0:00:06\n",
      "   --- ------------------------------------ 2.1/26.4 MB 4.4 MB/s eta 0:00:06\n",
      "   --- ------------------------------------ 2.3/26.4 MB 4.5 MB/s eta 0:00:06\n",
      "   --- ------------------------------------ 2.5/26.4 MB 4.5 MB/s eta 0:00:06\n",
      "   --- ------------------------------------ 2.6/26.4 MB 4.3 MB/s eta 0:00:06\n",
      "   ---- ----------------------------------- 2.8/26.4 MB 4.4 MB/s eta 0:00:06\n",
      "   ---- ----------------------------------- 3.0/26.4 MB 4.4 MB/s eta 0:00:06\n",
      "   ---- ----------------------------------- 3.3/26.4 MB 4.4 MB/s eta 0:00:06\n",
      "   ----- ---------------------------------- 3.5/26.4 MB 4.5 MB/s eta 0:00:06\n",
      "   ----- ---------------------------------- 3.8/26.4 MB 4.5 MB/s eta 0:00:05\n",
      "   ----- ---------------------------------- 3.9/26.4 MB 4.4 MB/s eta 0:00:06\n",
      "   ------ --------------------------------- 4.1/26.4 MB 4.4 MB/s eta 0:00:06\n",
      "   ------ --------------------------------- 4.3/26.4 MB 4.4 MB/s eta 0:00:06\n",
      "   ------ --------------------------------- 4.6/26.4 MB 4.5 MB/s eta 0:00:05\n",
      "   ------- -------------------------------- 4.8/26.4 MB 4.5 MB/s eta 0:00:05\n",
      "   ------- -------------------------------- 4.9/26.4 MB 4.4 MB/s eta 0:00:05\n",
      "   ------- -------------------------------- 5.1/26.4 MB 4.4 MB/s eta 0:00:05\n",
      "   -------- ------------------------------- 5.4/26.4 MB 4.5 MB/s eta 0:00:05\n",
      "   -------- ------------------------------- 5.5/26.4 MB 4.4 MB/s eta 0:00:05\n",
      "   -------- ------------------------------- 5.7/26.4 MB 4.4 MB/s eta 0:00:05\n",
      "   --------- ------------------------------ 6.0/26.4 MB 4.5 MB/s eta 0:00:05\n",
      "   --------- ------------------------------ 6.1/26.4 MB 4.4 MB/s eta 0:00:05\n",
      "   --------- ------------------------------ 6.3/26.4 MB 4.4 MB/s eta 0:00:05\n",
      "   ---------- ----------------------------- 6.6/26.4 MB 4.5 MB/s eta 0:00:05\n",
      "   ---------- ----------------------------- 6.7/26.4 MB 4.4 MB/s eta 0:00:05\n",
      "   ---------- ----------------------------- 6.9/26.4 MB 4.3 MB/s eta 0:00:05\n",
      "   ---------- ----------------------------- 7.1/26.4 MB 4.4 MB/s eta 0:00:05\n",
      "   ----------- ---------------------------- 7.3/26.4 MB 4.3 MB/s eta 0:00:05\n",
      "   ----------- ---------------------------- 7.6/26.4 MB 4.4 MB/s eta 0:00:05\n",
      "   ----------- ---------------------------- 7.8/26.4 MB 4.4 MB/s eta 0:00:05\n",
      "   ----------- ---------------------------- 7.9/26.4 MB 4.4 MB/s eta 0:00:05\n",
      "   ------------ --------------------------- 8.1/26.4 MB 4.3 MB/s eta 0:00:05\n",
      "   ------------ --------------------------- 8.4/26.4 MB 4.4 MB/s eta 0:00:05\n",
      "   ------------ --------------------------- 8.5/26.4 MB 4.3 MB/s eta 0:00:05\n",
      "   ------------- -------------------------- 8.7/26.4 MB 4.3 MB/s eta 0:00:05\n",
      "   ------------- -------------------------- 8.9/26.4 MB 4.3 MB/s eta 0:00:05\n",
      "   ------------- -------------------------- 9.1/26.4 MB 4.3 MB/s eta 0:00:05\n",
      "   -------------- ------------------------- 9.3/26.4 MB 4.3 MB/s eta 0:00:04\n",
      "   -------------- ------------------------- 9.5/26.4 MB 4.3 MB/s eta 0:00:04\n",
      "   -------------- ------------------------- 9.7/26.4 MB 4.3 MB/s eta 0:00:04\n",
      "   -------------- ------------------------- 9.8/26.4 MB 4.3 MB/s eta 0:00:04\n",
      "   --------------- ------------------------ 10.1/26.4 MB 4.3 MB/s eta 0:00:04\n",
      "   --------------- ------------------------ 10.3/26.4 MB 4.3 MB/s eta 0:00:04\n",
      "   ---------------- ----------------------- 10.6/26.4 MB 4.3 MB/s eta 0:00:04\n",
      "   ---------------- ----------------------- 10.8/26.4 MB 4.3 MB/s eta 0:00:04\n",
      "   ---------------- ----------------------- 11.0/26.4 MB 4.3 MB/s eta 0:00:04\n",
      "   ----------------- ---------------------- 11.2/26.4 MB 4.3 MB/s eta 0:00:04\n",
      "   ----------------- ---------------------- 11.5/26.4 MB 4.3 MB/s eta 0:00:04\n",
      "   ----------------- ---------------------- 11.6/26.4 MB 4.3 MB/s eta 0:00:04\n",
      "   ------------------ --------------------- 11.9/26.4 MB 4.3 MB/s eta 0:00:04\n",
      "   ------------------ --------------------- 12.1/26.4 MB 4.3 MB/s eta 0:00:04\n",
      "   ------------------ --------------------- 12.2/26.4 MB 4.3 MB/s eta 0:00:04\n",
      "   ------------------ --------------------- 12.4/26.4 MB 4.3 MB/s eta 0:00:04\n",
      "   ------------------- -------------------- 12.6/26.4 MB 4.3 MB/s eta 0:00:04\n",
      "   ------------------- -------------------- 12.7/26.4 MB 4.3 MB/s eta 0:00:04\n",
      "   ------------------- -------------------- 12.9/26.4 MB 4.2 MB/s eta 0:00:04\n",
      "   ------------------- -------------------- 13.2/26.4 MB 4.2 MB/s eta 0:00:04\n",
      "   -------------------- ------------------- 13.3/26.4 MB 4.3 MB/s eta 0:00:04\n",
      "   -------------------- ------------------- 13.7/26.4 MB 4.3 MB/s eta 0:00:03\n",
      "   --------------------- ------------------ 14.0/26.4 MB 4.3 MB/s eta 0:00:03\n",
      "   --------------------- ------------------ 14.2/26.4 MB 4.4 MB/s eta 0:00:03\n",
      "   --------------------- ------------------ 14.5/26.4 MB 4.4 MB/s eta 0:00:03\n",
      "   ---------------------- ----------------- 14.9/26.4 MB 4.4 MB/s eta 0:00:03\n",
      "   ---------------------- ----------------- 15.1/26.4 MB 4.5 MB/s eta 0:00:03\n",
      "   ----------------------- ---------------- 15.5/26.4 MB 4.5 MB/s eta 0:00:03\n",
      "   ----------------------- ---------------- 15.7/26.4 MB 4.5 MB/s eta 0:00:03\n",
      "   ------------------------ --------------- 16.1/26.4 MB 4.6 MB/s eta 0:00:03\n",
      "   ------------------------ --------------- 16.2/26.4 MB 4.5 MB/s eta 0:00:03\n",
      "   ------------------------ --------------- 16.3/26.4 MB 4.5 MB/s eta 0:00:03\n",
      "   ------------------------- -------------- 16.6/26.4 MB 4.5 MB/s eta 0:00:03\n",
      "   ------------------------- -------------- 16.7/26.4 MB 4.5 MB/s eta 0:00:03\n",
      "   ------------------------- -------------- 17.1/26.4 MB 4.6 MB/s eta 0:00:03\n",
      "   -------------------------- ------------- 17.4/26.4 MB 4.6 MB/s eta 0:00:02\n",
      "   -------------------------- ------------- 17.7/26.4 MB 4.7 MB/s eta 0:00:02\n",
      "   --------------------------- ------------ 18.1/26.4 MB 4.7 MB/s eta 0:00:02\n",
      "   --------------------------- ------------ 18.3/26.4 MB 4.8 MB/s eta 0:00:02\n",
      "   ---------------------------- ----------- 18.6/26.4 MB 4.8 MB/s eta 0:00:02\n",
      "   ---------------------------- ----------- 18.8/26.4 MB 4.9 MB/s eta 0:00:02\n",
      "   ---------------------------- ----------- 19.0/26.4 MB 4.8 MB/s eta 0:00:02\n",
      "   ----------------------------- ---------- 19.4/26.4 MB 5.0 MB/s eta 0:00:02\n",
      "   ------------------------------ --------- 19.8/26.4 MB 5.0 MB/s eta 0:00:02\n",
      "   ------------------------------ --------- 20.0/26.4 MB 5.0 MB/s eta 0:00:02\n",
      "   ------------------------------- -------- 20.5/26.4 MB 5.2 MB/s eta 0:00:02\n",
      "   ------------------------------- -------- 20.7/26.4 MB 5.1 MB/s eta 0:00:02\n",
      "   ------------------------------- -------- 21.0/26.4 MB 5.2 MB/s eta 0:00:02\n",
      "   -------------------------------- ------- 21.3/26.4 MB 5.2 MB/s eta 0:00:01\n",
      "   -------------------------------- ------- 21.7/26.4 MB 5.3 MB/s eta 0:00:01\n",
      "   --------------------------------- ------ 21.9/26.4 MB 5.3 MB/s eta 0:00:01\n",
      "   --------------------------------- ------ 22.3/26.4 MB 5.5 MB/s eta 0:00:01\n",
      "   ---------------------------------- ----- 22.6/26.4 MB 5.5 MB/s eta 0:00:01\n",
      "   ---------------------------------- ----- 22.9/26.4 MB 5.6 MB/s eta 0:00:01\n",
      "   ---------------------------------- ----- 23.0/26.4 MB 5.6 MB/s eta 0:00:01\n",
      "   ---------------------------------- ----- 23.0/26.4 MB 5.6 MB/s eta 0:00:01\n",
      "   ----------------------------------- ---- 23.5/26.4 MB 5.6 MB/s eta 0:00:01\n",
      "   ------------------------------------ --- 23.8/26.4 MB 5.6 MB/s eta 0:00:01\n",
      "   ------------------------------------ --- 24.0/26.4 MB 5.6 MB/s eta 0:00:01\n",
      "   ------------------------------------ --- 24.4/26.4 MB 5.6 MB/s eta 0:00:01\n",
      "   ------------------------------------- -- 24.5/26.4 MB 5.6 MB/s eta 0:00:01\n",
      "   ------------------------------------- -- 24.8/26.4 MB 5.6 MB/s eta 0:00:01\n",
      "   -------------------------------------- - 25.3/26.4 MB 5.5 MB/s eta 0:00:01\n",
      "   -------------------------------------- - 25.4/26.4 MB 5.5 MB/s eta 0:00:01\n",
      "   -------------------------------------- - 25.7/26.4 MB 5.5 MB/s eta 0:00:01\n",
      "   ---------------------------------------  26.0/26.4 MB 5.5 MB/s eta 0:00:01\n",
      "   ---------------------------------------  26.2/26.4 MB 5.4 MB/s eta 0:00:01\n",
      "   ---------------------------------------  26.4/26.4 MB 5.4 MB/s eta 0:00:01\n",
      "   ---------------------------------------  26.4/26.4 MB 5.4 MB/s eta 0:00:01\n",
      "   ---------------------------------------  26.4/26.4 MB 5.4 MB/s eta 0:00:01\n",
      "   ---------------------------------------- 26.4/26.4 MB 4.8 MB/s eta 0:00:00\n",
      "Using cached opt_einsum-3.3.0-py3-none-any.whl (65 kB)\n",
      "Using cached tensorboard-2.14.1-py3-none-any.whl (5.5 MB)\n",
      "Using cached tensorflow_estimator-2.14.0-py2.py3-none-any.whl (440 kB)\n",
      "Using cached tensorflow_io_gcs_filesystem-0.31.0-cp311-cp311-win_amd64.whl (1.5 MB)\n",
      "Using cached termcolor-2.4.0-py3-none-any.whl (7.7 kB)\n",
      "Downloading google_auth-2.28.2-py2.py3-none-any.whl (186 kB)\n",
      "   ---------------------------------------- 0.0/186.9 kB ? eta -:--:--\n",
      "   -------------------------- ------------- 122.9/186.9 kB 3.6 MB/s eta 0:00:01\n",
      "   -------------------------------- ------- 153.6/186.9 kB 3.1 MB/s eta 0:00:01\n",
      "   ---------------------------------------- 186.9/186.9 kB 1.6 MB/s eta 0:00:00\n",
      "Using cached google_auth_oauthlib-1.0.0-py2.py3-none-any.whl (18 kB)\n",
      "Using cached tensorboard_data_server-0.7.2-py3-none-any.whl (2.4 kB)\n",
      "Downloading requests_oauthlib-1.4.0-py2.py3-none-any.whl (24 kB)\n",
      "Using cached rsa-4.9-py3-none-any.whl (34 kB)\n",
      "Using cached oauthlib-3.2.2-py3-none-any.whl (151 kB)\n",
      "Installing collected packages: libclang, flatbuffers, termcolor, tensorflow-io-gcs-filesystem, tensorflow-estimator, tensorboard-data-server, rsa, opt-einsum, oauthlib, ml-dtypes, keras, grpcio, google-pasta, gast, astunparse, absl-py, requests-oauthlib, google-auth, google-auth-oauthlib, tensorboard, tensorflow-intel, tensorflow\n",
      "Successfully installed absl-py-2.1.0 astunparse-1.6.3 flatbuffers-24.3.7 gast-0.5.4 google-auth-2.28.2 google-auth-oauthlib-1.0.0 google-pasta-0.2.0 grpcio-1.62.1 keras-2.14.0 libclang-18.1.1 ml-dtypes-0.2.0 oauthlib-3.2.2 opt-einsum-3.3.0 requests-oauthlib-1.4.0 rsa-4.9 tensorboard-2.14.1 tensorboard-data-server-0.7.2 tensorflow-2.14.0 tensorflow-estimator-2.14.0 tensorflow-intel-2.14.0 tensorflow-io-gcs-filesystem-0.31.0 termcolor-2.4.0\n",
      "Requirement already satisfied: tensorflow==2.14.0 in c:\\users\\dell\\anaconda3\\lib\\site-packages (2.14.0)\n",
      "Requirement already satisfied: tensorflow-intel==2.14.0 in c:\\users\\dell\\anaconda3\\lib\\site-packages (from tensorflow==2.14.0) (2.14.0)\n",
      "Requirement already satisfied: absl-py>=1.0.0 in c:\\users\\dell\\anaconda3\\lib\\site-packages (from tensorflow-intel==2.14.0->tensorflow==2.14.0) (2.1.0)\n",
      "Requirement already satisfied: astunparse>=1.6.0 in c:\\users\\dell\\anaconda3\\lib\\site-packages (from tensorflow-intel==2.14.0->tensorflow==2.14.0) (1.6.3)\n",
      "Requirement already satisfied: flatbuffers>=23.5.26 in c:\\users\\dell\\anaconda3\\lib\\site-packages (from tensorflow-intel==2.14.0->tensorflow==2.14.0) (24.3.7)\n",
      "Requirement already satisfied: gast!=0.5.0,!=0.5.1,!=0.5.2,>=0.2.1 in c:\\users\\dell\\anaconda3\\lib\\site-packages (from tensorflow-intel==2.14.0->tensorflow==2.14.0) (0.5.4)\n",
      "Requirement already satisfied: google-pasta>=0.1.1 in c:\\users\\dell\\anaconda3\\lib\\site-packages (from tensorflow-intel==2.14.0->tensorflow==2.14.0) (0.2.0)\n",
      "Requirement already satisfied: h5py>=2.9.0 in c:\\users\\dell\\anaconda3\\lib\\site-packages (from tensorflow-intel==2.14.0->tensorflow==2.14.0) (3.9.0)\n",
      "Requirement already satisfied: libclang>=13.0.0 in c:\\users\\dell\\anaconda3\\lib\\site-packages (from tensorflow-intel==2.14.0->tensorflow==2.14.0) (18.1.1)\n",
      "Requirement already satisfied: ml-dtypes==0.2.0 in c:\\users\\dell\\anaconda3\\lib\\site-packages (from tensorflow-intel==2.14.0->tensorflow==2.14.0) (0.2.0)\n",
      "Requirement already satisfied: numpy>=1.23.5 in c:\\users\\dell\\anaconda3\\lib\\site-packages (from tensorflow-intel==2.14.0->tensorflow==2.14.0) (1.26.4)\n",
      "Requirement already satisfied: opt-einsum>=2.3.2 in c:\\users\\dell\\anaconda3\\lib\\site-packages (from tensorflow-intel==2.14.0->tensorflow==2.14.0) (3.3.0)\n",
      "Requirement already satisfied: packaging in c:\\users\\dell\\anaconda3\\lib\\site-packages (from tensorflow-intel==2.14.0->tensorflow==2.14.0) (23.1)\n",
      "Requirement already satisfied: protobuf!=4.21.0,!=4.21.1,!=4.21.2,!=4.21.3,!=4.21.4,!=4.21.5,<5.0.0dev,>=3.20.3 in c:\\users\\dell\\anaconda3\\lib\\site-packages (from tensorflow-intel==2.14.0->tensorflow==2.14.0) (3.20.3)\n",
      "Requirement already satisfied: setuptools in c:\\users\\dell\\anaconda3\\lib\\site-packages (from tensorflow-intel==2.14.0->tensorflow==2.14.0) (68.2.2)\n",
      "Requirement already satisfied: six>=1.12.0 in c:\\users\\dell\\anaconda3\\lib\\site-packages (from tensorflow-intel==2.14.0->tensorflow==2.14.0) (1.16.0)\n",
      "Requirement already satisfied: termcolor>=1.1.0 in c:\\users\\dell\\anaconda3\\lib\\site-packages (from tensorflow-intel==2.14.0->tensorflow==2.14.0) (2.4.0)\n",
      "Requirement already satisfied: typing-extensions>=3.6.6 in c:\\users\\dell\\anaconda3\\lib\\site-packages (from tensorflow-intel==2.14.0->tensorflow==2.14.0) (4.9.0)\n",
      "Requirement already satisfied: wrapt<1.15,>=1.11.0 in c:\\users\\dell\\anaconda3\\lib\\site-packages (from tensorflow-intel==2.14.0->tensorflow==2.14.0) (1.14.1)\n",
      "Requirement already satisfied: tensorflow-io-gcs-filesystem>=0.23.1 in c:\\users\\dell\\anaconda3\\lib\\site-packages (from tensorflow-intel==2.14.0->tensorflow==2.14.0) (0.31.0)\n",
      "Requirement already satisfied: grpcio<2.0,>=1.24.3 in c:\\users\\dell\\anaconda3\\lib\\site-packages (from tensorflow-intel==2.14.0->tensorflow==2.14.0) (1.62.1)\n",
      "Requirement already satisfied: tensorboard<2.15,>=2.14 in c:\\users\\dell\\anaconda3\\lib\\site-packages (from tensorflow-intel==2.14.0->tensorflow==2.14.0) (2.14.1)\n",
      "Requirement already satisfied: tensorflow-estimator<2.15,>=2.14.0 in c:\\users\\dell\\anaconda3\\lib\\site-packages (from tensorflow-intel==2.14.0->tensorflow==2.14.0) (2.14.0)\n",
      "Requirement already satisfied: keras<2.15,>=2.14.0 in c:\\users\\dell\\anaconda3\\lib\\site-packages (from tensorflow-intel==2.14.0->tensorflow==2.14.0) (2.14.0)\n",
      "Requirement already satisfied: wheel<1.0,>=0.23.0 in c:\\users\\dell\\anaconda3\\lib\\site-packages (from astunparse>=1.6.0->tensorflow-intel==2.14.0->tensorflow==2.14.0) (0.41.2)\n",
      "Requirement already satisfied: google-auth<3,>=1.6.3 in c:\\users\\dell\\anaconda3\\lib\\site-packages (from tensorboard<2.15,>=2.14->tensorflow-intel==2.14.0->tensorflow==2.14.0) (2.28.2)\n",
      "Requirement already satisfied: google-auth-oauthlib<1.1,>=0.5 in c:\\users\\dell\\anaconda3\\lib\\site-packages (from tensorboard<2.15,>=2.14->tensorflow-intel==2.14.0->tensorflow==2.14.0) (1.0.0)\n",
      "Requirement already satisfied: markdown>=2.6.8 in c:\\users\\dell\\anaconda3\\lib\\site-packages (from tensorboard<2.15,>=2.14->tensorflow-intel==2.14.0->tensorflow==2.14.0) (3.4.1)\n",
      "Requirement already satisfied: requests<3,>=2.21.0 in c:\\users\\dell\\anaconda3\\lib\\site-packages (from tensorboard<2.15,>=2.14->tensorflow-intel==2.14.0->tensorflow==2.14.0) (2.31.0)\n",
      "Requirement already satisfied: tensorboard-data-server<0.8.0,>=0.7.0 in c:\\users\\dell\\anaconda3\\lib\\site-packages (from tensorboard<2.15,>=2.14->tensorflow-intel==2.14.0->tensorflow==2.14.0) (0.7.2)\n",
      "Requirement already satisfied: werkzeug>=1.0.1 in c:\\users\\dell\\anaconda3\\lib\\site-packages (from tensorboard<2.15,>=2.14->tensorflow-intel==2.14.0->tensorflow==2.14.0) (2.2.3)\n",
      "Requirement already satisfied: cachetools<6.0,>=2.0.0 in c:\\users\\dell\\anaconda3\\lib\\site-packages (from google-auth<3,>=1.6.3->tensorboard<2.15,>=2.14->tensorflow-intel==2.14.0->tensorflow==2.14.0) (4.2.2)\n",
      "Requirement already satisfied: pyasn1-modules>=0.2.1 in c:\\users\\dell\\anaconda3\\lib\\site-packages (from google-auth<3,>=1.6.3->tensorboard<2.15,>=2.14->tensorflow-intel==2.14.0->tensorflow==2.14.0) (0.2.8)\n",
      "Requirement already satisfied: rsa<5,>=3.1.4 in c:\\users\\dell\\anaconda3\\lib\\site-packages (from google-auth<3,>=1.6.3->tensorboard<2.15,>=2.14->tensorflow-intel==2.14.0->tensorflow==2.14.0) (4.9)\n",
      "Requirement already satisfied: requests-oauthlib>=0.7.0 in c:\\users\\dell\\anaconda3\\lib\\site-packages (from google-auth-oauthlib<1.1,>=0.5->tensorboard<2.15,>=2.14->tensorflow-intel==2.14.0->tensorflow==2.14.0) (1.4.0)\n",
      "Requirement already satisfied: charset-normalizer<4,>=2 in c:\\users\\dell\\anaconda3\\lib\\site-packages (from requests<3,>=2.21.0->tensorboard<2.15,>=2.14->tensorflow-intel==2.14.0->tensorflow==2.14.0) (2.0.4)\n",
      "Requirement already satisfied: idna<4,>=2.5 in c:\\users\\dell\\anaconda3\\lib\\site-packages (from requests<3,>=2.21.0->tensorboard<2.15,>=2.14->tensorflow-intel==2.14.0->tensorflow==2.14.0) (3.4)\n",
      "Requirement already satisfied: urllib3<3,>=1.21.1 in c:\\users\\dell\\anaconda3\\lib\\site-packages (from requests<3,>=2.21.0->tensorboard<2.15,>=2.14->tensorflow-intel==2.14.0->tensorflow==2.14.0) (2.0.7)\n",
      "Requirement already satisfied: certifi>=2017.4.17 in c:\\users\\dell\\anaconda3\\lib\\site-packages (from requests<3,>=2.21.0->tensorboard<2.15,>=2.14->tensorflow-intel==2.14.0->tensorflow==2.14.0) (2024.2.2)\n",
      "Requirement already satisfied: MarkupSafe>=2.1.1 in c:\\users\\dell\\anaconda3\\lib\\site-packages (from werkzeug>=1.0.1->tensorboard<2.15,>=2.14->tensorflow-intel==2.14.0->tensorflow==2.14.0) (2.1.3)\n",
      "Requirement already satisfied: pyasn1<0.5.0,>=0.4.6 in c:\\users\\dell\\anaconda3\\lib\\site-packages (from pyasn1-modules>=0.2.1->google-auth<3,>=1.6.3->tensorboard<2.15,>=2.14->tensorflow-intel==2.14.0->tensorflow==2.14.0) (0.4.8)\n",
      "Requirement already satisfied: oauthlib>=3.0.0 in c:\\users\\dell\\anaconda3\\lib\\site-packages (from requests-oauthlib>=0.7.0->google-auth-oauthlib<1.1,>=0.5->tensorboard<2.15,>=2.14->tensorflow-intel==2.14.0->tensorflow==2.14.0) (3.2.2)\n",
      "Tensorflow version 2.14.0\n"
     ]
    }
   ],
   "source": [
    "!pip install tensorflow==2.14.0\n",
    "import tensorflow as tf\n",
    "print(\"Tensorflow version \" + tf.__version__)"
   ]
  },
  {
   "cell_type": "code",
   "execution_count": null,
   "metadata": {
    "colab": {
     "base_uri": "https://localhost:8080/"
    },
    "id": "PVAAC9VqpY22",
    "outputId": "be4e1404-45c9-47d5-d9d6-bba3d6f1c3d8"
   },
   "outputs": [],
   "source": [
    "# checks if any GPU is present for this notebook or not-\n",
    "\n",
    "device_name = tf.test.gpu_device_name()\n",
    "if device_name != '/device:GPU:0':\n",
    "  raise SystemError('GPU device not found')\n",
    "print('Found GPU at: {}'.format(device_name))"
   ]
  },
  {
   "cell_type": "code",
   "execution_count": null,
   "metadata": {
    "colab": {
     "base_uri": "https://localhost:8080/"
    },
    "id": "ktC674sdpaPK",
    "outputId": "7f45c77d-ed67-4ddd-c45e-79b86024826e"
   },
   "outputs": [],
   "source": [
    "# essentially checks the GPU type\n",
    "\n",
    "from tensorflow.python.client import device_lib\n",
    "device_lib.list_local_devices()"
   ]
  },
  {
   "cell_type": "code",
   "execution_count": null,
   "metadata": {
    "id": "Z3FR-0cdparP"
   },
   "outputs": [],
   "source": [
    "# import all the necessary packages\n",
    "\n",
    "import numpy as np\n",
    "import pandas as pd\n",
    "import matplotlib.pyplot as plt\n",
    "from collections import Counter\n",
    "import itertools\n",
    "import warnings\n",
    "warnings.simplefilter(action = 'ignore', category = FutureWarning)\n",
    "%matplotlib inline"
   ]
  },
  {
   "cell_type": "code",
   "execution_count": null,
   "metadata": {
    "colab": {
     "base_uri": "https://localhost:8080/"
    },
    "id": "It-TGGhcpbG8",
    "outputId": "633224f0-b063-4418-d071-52149aac5f12"
   },
   "outputs": [],
   "source": [
    "# mount the google drive to load the necessary files (in the next cell).\n",
    "\n",
    "from google.colab import drive\n",
    "drive.mount('/content/Pdrive')"
   ]
  },
  {
   "cell_type": "code",
   "execution_count": null,
   "metadata": {
    "id": "lxn8tTElpbgg"
   },
   "outputs": [],
   "source": [
    "# Load the train and test data from the NumPy files saved from the first notebook.\n",
    "\n",
    "X_train = np.load('/content/Pdrive/MyDrive/Colab Notebooks/XTrain.npy')\n",
    "\n",
    "X_test = np.load('/content/Pdrive/MyDrive/Colab Notebooks/XTest.npy')\n",
    "\n",
    "y_train = np.load('/content/Pdrive/MyDrive/Colab Notebooks/yTrain.npy')\n",
    "\n",
    "y_test = np.load('/content/Pdrive/MyDrive/Colab Notebooks/yTest.npy')"
   ]
  },
  {
   "cell_type": "code",
   "execution_count": null,
   "metadata": {
    "id": "tQ_tTHy4qKyW"
   },
   "outputs": [],
   "source": [
    "# Import all the necessary things for model-training.\n",
    "\n",
    "import keras\n",
    "from tensorflow.keras.models import Sequential\n",
    "from tensorflow.keras.layers import Conv1D, MaxPooling1D, Flatten, Dropout, Dense, Activation\n",
    "from tensorflow.keras.layers import GlobalAveragePooling1D, BatchNormalization, LSTM, Bidirectional\n",
    "from tensorflow.keras.optimizers import Adam\n",
    "from tensorflow.keras.metrics import categorical_crossentropy\n",
    "from tensorflow.keras.regularizers import l1, l2, l1_l2 "
   ]
  },
  {
   "cell_type": "code",
   "execution_count": null,
   "metadata": {
    "id": "JQuWGQA-qOM6"
   },
   "outputs": [],
   "source": [
    "    reg2 = l2(0.01)  # L2 regularizer\n",
    "\n",
    "    model = Sequential()\n",
    "    model.add(Conv1D(filters=128,kernel_size=1, activation=\"relu\", input_shape = (36, 1)))\n",
    "    model.add(Conv1D(filters=128,kernel_size=1, activation=\"relu\"))\n",
    "    model.add(MaxPooling1D(pool_size=1))\n",
    "    model.add(Dropout(0.1))\n",
    "    model.add(Conv1D(filters=128, kernel_size=1, activation=\"relu\"))\n",
    "    model.add(Conv1D(filters=128, kernel_size=1, activation=\"relu\"))\n",
    "    model.add(MaxPooling1D(pool_size=1))\n",
    "    model.add(Dropout(0.1))\n",
    "    model.add(Conv1D(filters=256, kernel_size=1, activation=\"relu\"))\n",
    "    model.add(Conv1D(filters=256, kernel_size=1, activation=\"relu\"))\n",
    "    model.add(MaxPooling1D(pool_size=1))\n",
    "    model.add(Dropout(0.1))\n",
    "    model.add(Conv1D(filters=256, kernel_size=1, activation=\"relu\"))\n",
    "    model.add(Conv1D(filters=256, kernel_size=1, activation=\"relu\"))\n",
    "    model.add(MaxPooling1D(pool_size = 1))\n",
    "    model.add(Dropout(0.1))\n",
    "    model.add(Bidirectional(LSTM(256, return_sequences=True)))\n",
    "    model.add(Dropout(0.1))\n",
    "    model.add(Bidirectional(LSTM(128, return_sequences=True)))\n",
    "    model.add(Dropout(0.1))\n",
    "    model.add(Bidirectional(LSTM(128, return_sequences=True)))\n",
    "    model.add(Dropout(0.1))\n",
    "    model.add(Flatten())\n",
    "    model.add(Dense(units=256,activation=\"relu\", kernel_regularizer = reg2, bias_regularizer = reg2))\n",
    "    model.add(BatchNormalization())\n",
    "    model.add(Dropout(0.2))\n",
    "    model.add(Dense(units=256,activation=\"relu\", kernel_regularizer = reg2, bias_regularizer = reg2))\n",
    "    model.add(BatchNormalization())\n",
    "    model.add(Dropout(0.2))\n",
    "    model.add(Dense(units=10, activation=\"softmax\"))\n",
    "    "
   ]
  },
  {
   "cell_type": "code",
   "execution_count": null,
   "metadata": {
    "colab": {
     "base_uri": "https://localhost:8080/"
    },
    "id": "5DrA924OqTmD",
    "outputId": "fc5fe94a-235a-44c9-e4b4-6fba9258eedc"
   },
   "outputs": [],
   "source": [
    "model.summary()"
   ]
  },
  {
   "cell_type": "code",
   "execution_count": null,
   "metadata": {
    "colab": {
     "base_uri": "https://localhost:8080/"
    },
    "id": "jmOzhY_vqWZy",
    "outputId": "edd7b531-63c1-418f-aad7-6146aa9c513d"
   },
   "outputs": [],
   "source": [
    "model.compile(optimizer = Adam(learning_rate = 0.0001), loss = 'sparse_categorical_crossentropy', metrics = ['accuracy'])\n",
    "\n",
    "model.fit(x = X_train, y = y_train, batch_size = 128, epochs = 70)"
   ]
  },
  {
   "cell_type": "code",
   "execution_count": null,
   "metadata": {
    "colab": {
     "base_uri": "https://localhost:8080/"
    },
    "id": "3mpZyJhaqbdZ",
    "outputId": "fddc76d8-60f1-473f-c48f-929c0602e565"
   },
   "outputs": [],
   "source": [
    "score = model.evaluate(X_test, y_test, batch_size = 128)"
   ]
  },
  {
   "cell_type": "code",
   "execution_count": null,
   "metadata": {
    "colab": {
     "base_uri": "https://localhost:8080/"
    },
    "id": "oEUVNGrNtU6C",
    "outputId": "b05bbe2f-3327-4e0a-f43c-795c73b16f02"
   },
   "outputs": [],
   "source": [
    "# THE FINAL ACCURACY RESULT OF THE MODEL:\n",
    "\n",
    "print(\"Accuracy: \", round(score[1]*100, 2))"
   ]
  },
  {
   "cell_type": "code",
   "execution_count": null,
   "metadata": {
    "id": "7AVpwCmmtlcx"
   },
   "outputs": [],
   "source": [
    "# y_pred = an array of all the predicted classes or labels.\n",
    "\n",
    "y_pred = np.argmax(model.predict(X_test), axis = -1)"
   ]
  },
  {
   "cell_type": "code",
   "execution_count": null,
   "metadata": {
    "id": "yY0GaCWqeHJ1"
   },
   "outputs": [],
   "source": [
    "# TO FIND THE ACCURACY OF MODEL ON EACH OF THE CLASSES \n",
    "\n",
    "from sklearn.metrics import confusion_matrix\n",
    "\n",
    "cmat = confusion_matrix(y_test, y_pred)    \n",
    "\n",
    "all_acc = cmat.diagonal()/cmat.sum(axis = 1)    # all_acc is an array containing accuracies of the model on each of the classes "
   ]
  },
  {
   "cell_type": "code",
   "execution_count": null,
   "metadata": {
    "colab": {
     "base_uri": "https://localhost:8080/"
    },
    "executionInfo": {
     "elapsed": 457,
     "status": "ok",
     "timestamp": 1625588554614,
     "user": {
      "displayName": "Harsh Raj",
      "photoUrl": "https://lh3.googleusercontent.com/a-/AOh14GjPRB1MgmJWfZTEsPuvmO_beXynS2hSn1GQEUc6JA=s64",
      "userId": "12511187426979633734"
     },
     "user_tz": -330
    },
    "id": "4gNDZgC8e3rc",
    "outputId": "2e81b7e2-54d7-4fce-cf8d-546946501598"
   },
   "outputs": [],
   "source": [
    "all_acc"
   ]
  },
  {
   "cell_type": "code",
   "execution_count": null,
   "metadata": {
    "colab": {
     "base_uri": "https://localhost:8080/"
    },
    "executionInfo": {
     "elapsed": 477,
     "status": "ok",
     "timestamp": 1625588560749,
     "user": {
      "displayName": "Harsh Raj",
      "photoUrl": "https://lh3.googleusercontent.com/a-/AOh14GjPRB1MgmJWfZTEsPuvmO_beXynS2hSn1GQEUc6JA=s64",
      "userId": "12511187426979633734"
     },
     "user_tz": -330
    },
    "id": "3XzXTnSJfECf",
    "outputId": "9f205307-d9bf-4bdf-e5ae-5c4a0a500de9"
   },
   "outputs": [],
   "source": [
    "#PRINT THE APPROXIMATE VALUES OF ACCURACY OF MODEL ON EACH OF THE CLASSES:\n",
    "\n",
    "for i in range(len(all_acc)):\n",
    "  \n",
    "  if(i==0):\n",
    "    temp = 'ALMI'\n",
    "  elif(i==1):\n",
    "    temp = 'AMI'\n",
    "  elif(i==2):\n",
    "    temp = 'ASMI'\n",
    "  elif(i==3):\n",
    "    temp = 'ILMI'\n",
    "  elif(i==4):\n",
    "    temp = 'IMI'\n",
    "  elif(i==5):\n",
    "    temp = 'IPLMI'\n",
    "  elif(i==6):\n",
    "    temp = 'IPMI'\n",
    "  elif(i==7):\n",
    "    temp = 'LMI'\n",
    "  elif(i==8):\n",
    "    temp = 'NORM'\n",
    "  else:\n",
    "    temp = 'PMI'\n",
    "  \n",
    "  print('Accuracy of the model on   ' + temp + ' = ', np.round(all_acc[i]*100, 2))"
   ]
  },
  {
   "cell_type": "code",
   "execution_count": null,
   "metadata": {
    "id": "QUcXzLZ7hIQp"
   },
   "outputs": [],
   "source": []
  }
 ],
 "metadata": {
  "accelerator": "GPU",
  "colab": {
   "collapsed_sections": [],
   "name": "MI_Localize_FINAL-MODEL.ipynb",
   "provenance": []
  },
  "kernelspec": {
   "display_name": "Python 3 (ipykernel)",
   "language": "python",
   "name": "python3"
  },
  "language_info": {
   "codemirror_mode": {
    "name": "ipython",
    "version": 3
   },
   "file_extension": ".py",
   "mimetype": "text/x-python",
   "name": "python",
   "nbconvert_exporter": "python",
   "pygments_lexer": "ipython3",
   "version": "3.11.7"
  }
 },
 "nbformat": 4,
 "nbformat_minor": 4
}
